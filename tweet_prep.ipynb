{
 "cells": [
  {
   "cell_type": "code",
   "execution_count": 2,
   "metadata": {},
   "outputs": [],
   "source": [
    "import numpy as np\n",
    "import pandas as pd\n",
    "import matplotlib.pyplot as plt\n",
    "import matplotlib.dates as mdates\n",
    "import matplotlib.ticker as tkr\n",
    "import seaborn as sns\n",
    "import nltk\n",
    "from nltk.sentiment import SentimentIntensityAnalyzer\n",
    "from textblob import TextBlob\n",
    "import dask.dataframe as dd"
   ]
  },
  {
   "cell_type": "code",
   "execution_count": 2,
   "metadata": {},
   "outputs": [],
   "source": [
    "# nltk.download('vader_lexicon')"
   ]
  },
  {
   "cell_type": "code",
   "execution_count": 3,
   "metadata": {},
   "outputs": [],
   "source": [
    "prices = pd.read_csv('values-of-top-nasdaq-copanies-from-2010-to-2020/CompanyValues.csv')"
   ]
  },
  {
   "cell_type": "code",
   "execution_count": 4,
   "metadata": {},
   "outputs": [],
   "source": [
    "# prices.head()"
   ]
  },
  {
   "cell_type": "code",
   "execution_count": 4,
   "metadata": {},
   "outputs": [],
   "source": [
    "prices['day_date'] = pd.to_datetime(prices['day_date'], format=\"%Y-%m-%d\").dt.date.astype('datetime64[ns]')"
   ]
  },
  {
   "cell_type": "code",
   "execution_count": 5,
   "metadata": {},
   "outputs": [],
   "source": [
    "prices = prices.sort_values(by=['day_date']).reset_index()"
   ]
  },
  {
   "cell_type": "code",
   "execution_count": 6,
   "metadata": {},
   "outputs": [],
   "source": [
    "prices = prices.rename(columns={\"day_date\":\"date\"})"
   ]
  },
  {
   "cell_type": "code",
   "execution_count": 7,
   "metadata": {},
   "outputs": [],
   "source": [
    "def create_indicator(data):\n",
    "    prices = data.sort_values(by=['date']).reset_index()\n",
    "\n",
    "    # Creating Simple Moving Average\n",
    "    n = [10, 20, 50, 100]\n",
    "    for i in n:\n",
    "        prices.loc[:,(str(\"MA\"+str(i)))]=prices['close_value'].rolling(i).mean()\n",
    "\n",
    "    # Calculate MACD\n",
    "    day26 = prices['close_value'].ewm(span=26, adjust=False).mean()\n",
    "    day12 = prices['close_value'].ewm(span=12, adjust=False).mean()\n",
    "    prices.loc[:,('macd')] = day12-day26\n",
    "    prices.loc[:,('signal')]=prices['macd'].ewm(span=9, adjust=False).mean()\n",
    "\n",
    "    # Calculate RSI\n",
    "    up = np.log(prices.close_value).diff(1)\n",
    "    down = np.log(prices.close_value).diff(1)\n",
    "\n",
    "    up[up<0]=0\n",
    "    down[down>0]=0\n",
    "\n",
    "    roll_up = up.ewm(span=14).mean()\n",
    "    roll_down = down.abs().ewm(span=14).mean()\n",
    "\n",
    "    RS1 = roll_up / roll_down\n",
    "    RSI1 = 100.0 - (100.0 / (1.0 + RS1))\n",
    "    prices.loc[:,('rsi')]=RSI1\n",
    "\n",
    "    return prices\n",
    "\n",
    "d = dict(tuple(prices.groupby('ticker_symbol')))\n",
    "d = {k:create_indicator(v) for k, v in d.items()}\n",
    "\n",
    "def subset_prices(d, ticker, start, end):\n",
    "    x=d[ticker]\n",
    "    x=x[((x.date>=start)&(x.date<=end))]\n",
    "    return x"
   ]
  },
  {
   "cell_type": "code",
   "execution_count": 8,
   "metadata": {},
   "outputs": [],
   "source": [
    "tweets = pd.read_csv('tweets-about-the-top-companies-from-2015-to-2020/Tweet.csv')\n",
    "company_tweet = pd.read_csv('tweets-about-the-top-companies-from-2015-to-2020/Company_Tweet.csv')"
   ]
  },
  {
   "cell_type": "code",
   "execution_count": 9,
   "metadata": {},
   "outputs": [],
   "source": [
    "tweets=tweets.merge(company_tweet,how='left',on='tweet_id')"
   ]
  },
  {
   "cell_type": "code",
   "execution_count": 9,
   "metadata": {},
   "outputs": [
    {
     "data": {
      "text/plain": [
       "(4336445, 8)"
      ]
     },
     "execution_count": 9,
     "metadata": {},
     "output_type": "execute_result"
    }
   ],
   "source": [
    "# tweets.shape"
   ]
  },
  {
   "cell_type": "code",
   "execution_count": 12,
   "metadata": {},
   "outputs": [],
   "source": [
    "# tweets.head()"
   ]
  },
  {
   "cell_type": "code",
   "execution_count": 10,
   "metadata": {},
   "outputs": [],
   "source": [
    "tweets['date'] = pd.to_datetime(tweets['post_date'], unit='s').dt.date\n",
    "tweets.date = pd.to_datetime(tweets.date,errors='coerce')\n",
    "tweets['time'] = pd.to_datetime(tweets['post_date'], unit='s').dt.time"
   ]
  },
  {
   "cell_type": "code",
   "execution_count": 11,
   "metadata": {},
   "outputs": [
    {
     "data": {
      "text/plain": [
       "array(['AAPL', 'AMZN', 'TSLA', 'MSFT', 'GOOG', 'GOOGL'], dtype=object)"
      ]
     },
     "execution_count": 11,
     "metadata": {},
     "output_type": "execute_result"
    }
   ],
   "source": [
    "# tweets['ticker_symbol'].unique()"
   ]
  },
  {
   "cell_type": "code",
   "execution_count": 11,
   "metadata": {},
   "outputs": [],
   "source": [
    "sia = SentimentIntensityAnalyzer()"
   ]
  },
  {
   "cell_type": "code",
   "execution_count": 13,
   "metadata": {},
   "outputs": [],
   "source": [
    "# def get_sentiment(tweets,ticker='TSLA',start='2017-01-01',end='2017-02-01'):\n",
    "#     #sbuset\n",
    "#     df=tweets.loc[((tweets.ticker_symbol==ticker)&(tweets.date>=start)&(tweets.date<=end))]\n",
    "#     # apply the SentimentIntensityAnalyzer\n",
    "#     df.loc[:,('score')]=df.loc[:,'body'].apply(lambda x: sia.polarity_scores(x)['compound'])\n",
    "#     # create label\n",
    "#     #bins= pd.interval_range(start=-1, freq=3, end=1)\n",
    "#     df.loc[:,('label')]=pd.cut(np.array(df.loc[:,'score']),bins=[-1, -0.66, 0.32, 1],right=True ,labels=[\"bad\", \"neutral\", \"good\"])\n",
    "    \n",
    "#     df=df.loc[:,[\"date\",\"score\",\"label\",\"tweet_id\",\"body\"]]\n",
    "#     return df"
   ]
  },
  {
   "cell_type": "code",
   "execution_count": 17,
   "metadata": {},
   "outputs": [],
   "source": [
    "# print('tesla misses earnings, analyst suggest downgrade, sell now ')\n",
    "# sia.polarity_scores('tesla misses earnings, analyst suggest downgrade , sell now ')"
   ]
  },
  {
   "cell_type": "code",
   "execution_count": 12,
   "metadata": {},
   "outputs": [],
   "source": [
    "# augment vocab to include words related to stock market\n",
    "\n",
    "positive_words='buy bull long support undervalued underpriced cheap upward rising trend moon rocket hold breakout call beat support buying holding high profit'\n",
    "negative_words='sell bear bubble bearish short overvalued overbought overpriced expensive downward falling sold sell low put miss resistance squeeze cover seller '\n",
    "\n",
    "dictOfpos = {i : 4 for i in positive_words.split(\" \")}\n",
    "dictOfneg = {i : -4 for i in negative_words.split(\" \")}\n",
    "Financial_Lexicon = {**dictOfpos, **dictOfneg}\n",
    "\n",
    "sia.lexicon.update(Financial_Lexicon)\n",
    "\n",
    "# print('tesla misses earnings, analyst suggest downgrade, sell now ')\n",
    "# sia.polarity_scores('tesla misses earnings, analyst suggest downgrade , sell now ')"
   ]
  },
  {
   "cell_type": "code",
   "execution_count": 13,
   "metadata": {},
   "outputs": [],
   "source": [
    "def price_plot_ma(df,ax=None, **plt_kwargs):\n",
    "    import seaborn as sns\n",
    "    import matplotlib.pyplot as plt\n",
    "    import matplotlib.dates as mdates\n",
    "    import matplotlib.ticker as tkr\n",
    "\n",
    "    n = df.shape[0] # number of dates\n",
    "    if ax is None:\n",
    "        ax = plt.gca()\n",
    "        \n",
    "    # format data for seaborn\n",
    "    df=df.melt(id_vars='date',var_name='var', value_name='vals')\n",
    "    df=df[df['var'].isin(['close_value','MA10','MA20','MA50','MA100'])]\n",
    "    df['vals']=df['vals'].astype(float)\n",
    "    df.index=df.date.dt.date\n",
    "    df.date=df.date.dt.date\n",
    "    # set axis formats / Set the locator\n",
    "    if ax is None:\n",
    "        ax = plt.gca()\n",
    "        \n",
    "    major_locator = mdates.MonthLocator()  \n",
    "    major_fmt = mdates.DateFormatter('%b')\n",
    "    minor_locator = mdates.DayLocator(interval=1) \n",
    "    minor_fmt = mdates.DateFormatter('%d')\n",
    "    ax.xaxis.set_major_locator(major_locator)\n",
    "    ax.xaxis.set_major_formatter(major_fmt)\n",
    "    ax.xaxis.set_minor_locator(minor_locator)\n",
    "    ax.grid(True, which='major',axis='both')\n",
    "    \n",
    "    if n > 750:\n",
    "        major_locator = mdates.YearLocator()   # every year and quarter\n",
    "        major_fmt = mdates.DateFormatter('%Y')\n",
    "        minor_locator =  mdates.MonthLocator()\n",
    "        minor_fmt = mdates.DateFormatter('%b')\n",
    "        ax.xaxis.set_major_locator(major_locator)\n",
    "        ax.xaxis.set_major_formatter(major_fmt)\n",
    "        ax.xaxis.set_minor_locator(minor_locator)\n",
    "        ax.grid(True, which='major',axis='both')\n",
    "        \n",
    "    if((n > 250 ) & (n< 750 )):\n",
    "        major_locator = mdates.MonthLocator()   # every year and quarter\n",
    "        major_fmt = mdates.DateFormatter('%b-%Y')\n",
    "        #minor_locator =  mdates.MonthLocator()\n",
    "        #minor_fmt = mdates.DateFormatter('%b')\n",
    "        ax.xaxis.set_major_locator(major_locator)\n",
    "        ax.xaxis.set_major_formatter(major_fmt)\n",
    "        #ax.xaxis.set_minor_locator(minor_locator)\n",
    "        ax.grid(True, which='major',axis='both')\n",
    "        \n",
    "    if ((n > 90 ) & (n< 250 )):\n",
    "        major_locator = mdates.MonthLocator()   # every  month\n",
    "        major_fmt = mdates.DateFormatter('%b-%y')\n",
    "        minor_locator = tkr.AutoMinorLocator(4)\n",
    "        minor_fmt = mdates.DateFormatter('%d-%m')\n",
    "        ax.xaxis.set_major_locator(major_locator)\n",
    "        ax.xaxis.set_major_formatter(major_fmt)\n",
    "        ax.xaxis.set_minor_locator(minor_locator)\n",
    "        #ax.xaxis.set_minor_formatter(minor_fmt)\n",
    "        ax.grid(True, which='major',axis='both')\n",
    "        \n",
    "    \n",
    "\n",
    "        \n",
    "    ax.set_ylabel('Close Price')\n",
    "    ax.set_xlabel('Date')\n",
    "    ax.tick_params(axis='x', labelrotation = 45)\n",
    "    ax.yaxis.set_major_formatter(tkr.FuncFormatter(lambda x, p: format(int(x), ',')))\n",
    "    sns.lineplot(data=df, x='date', y='vals',hue='var',palette='cool_r',ax=ax)\n",
    "    ax.legend(loc='center left', bbox_to_anchor=(1, 0.5),fancybox=True, shadow=True)\n",
    "    return ax"
   ]
  },
  {
   "cell_type": "code",
   "execution_count": 14,
   "metadata": {},
   "outputs": [],
   "source": [
    "def price_plot_vol(df,ax=None, **plt_kwargs):\n",
    "    import seaborn as sns\n",
    "    import matplotlib.pyplot as plt\n",
    "    import matplotlib.dates as mdates\n",
    "    import matplotlib.ticker as tkr\n",
    "    \n",
    "    n=df.shape[0]\n",
    "    \n",
    "    df.index=df.date.dt.date\n",
    "    if ax is None:\n",
    "        ax = plt.gca()\n",
    "    \n",
    "    major_locator = mdates.MonthLocator()  \n",
    "    major_fmt = mdates.DateFormatter('%b')\n",
    "    minor_locator = mdates.DayLocator(interval=1) \n",
    "    minor_fmt = mdates.DateFormatter('%d')\n",
    "    ax.xaxis.set_major_locator(major_locator)\n",
    "    ax.xaxis.set_major_formatter(major_fmt)\n",
    "    ax.xaxis.set_minor_locator(minor_locator)\n",
    "    ax.grid(True, which='major',axis='both')\n",
    "    \n",
    "    if n > 750:\n",
    "        major_locator = mdates.YearLocator()   # every year and quarter\n",
    "        major_fmt = mdates.DateFormatter('%Y')\n",
    "        minor_locator =  mdates.MonthLocator()\n",
    "        minor_fmt = mdates.DateFormatter('%b')\n",
    "        ax.xaxis.set_major_locator(major_locator)\n",
    "        ax.xaxis.set_major_formatter(major_fmt)\n",
    "        ax.xaxis.set_minor_locator(minor_locator)\n",
    "        ax.grid(True, which='major',axis='both')\n",
    "        \n",
    "    if((n > 250 ) & (n< 750 )):\n",
    "        major_locator = mdates.MonthLocator()   # every year and quarter\n",
    "        major_fmt = mdates.DateFormatter('%b-%Y')\n",
    "        #minor_locator =  mdates.MonthLocator()\n",
    "        #minor_fmt = mdates.DateFormatter('%b')\n",
    "        ax.xaxis.set_major_locator(major_locator)\n",
    "        ax.xaxis.set_major_formatter(major_fmt)\n",
    "        #ax.xaxis.set_minor_locator(minor_locator)\n",
    "        ax.grid(True, which='major',axis='both')\n",
    "        \n",
    "    if ((n > 90 ) & (n< 250 )):\n",
    "        major_locator = mdates.MonthLocator()   # every  month\n",
    "        major_fmt = mdates.DateFormatter('%b-%y')\n",
    "        minor_locator = tkr.AutoMinorLocator(4)\n",
    "        minor_fmt = mdates.DateFormatter('%d-%m')\n",
    "        ax.xaxis.set_major_locator(major_locator)\n",
    "        ax.xaxis.set_major_formatter(major_fmt)\n",
    "        ax.xaxis.set_minor_locator(minor_locator)\n",
    "        #ax.xaxis.set_minor_formatter(minor_fmt)\n",
    "        ax.grid(True, which='major',axis='both')\n",
    "        \n",
    "    \n",
    "    ax.set_ylabel('Traded Volume (million)')\n",
    "    ax.set_xlabel('Date')\n",
    "    ax.tick_params(axis='x', labelrotation = 45)\n",
    "    ax.yaxis.set_major_formatter(tkr.FuncFormatter(lambda x, p: format(int(x/1000000), ',')))\n",
    "    sns.lineplot(data=df, x='date', y='volume',palette='cool_r',ax=ax)\n",
    "\n",
    "    return ax"
   ]
  },
  {
   "cell_type": "code",
   "execution_count": 15,
   "metadata": {},
   "outputs": [],
   "source": [
    "def sentiment_barplot(df,ax=None, **plt_kwargs):\n",
    "    import seaborn as sns\n",
    "    import matplotlib.pyplot as plt\n",
    "    import matplotlib.dates as mdates\n",
    "    import matplotlib.ticker as tkr\n",
    "    \n",
    "    df=df.groupby(['date','label'])['tweet_id'].agg('count').reset_index(name=\"count\")\n",
    "    \n",
    "    n=len(df.date.unique())\n",
    "    \n",
    "    # format the data and make proportion\n",
    "    df=df.pivot(index='date',columns='label',values='count')\n",
    "    df=pd.DataFrame(df.to_records()).reset_index()\n",
    "    df.loc[:,\"total\"]=df.loc[:,['bad','neutral','good']].sum(axis=1)\n",
    "    df.loc[:,['bad','neutral','good']]=df.loc[:,['bad','neutral','good']].div(df.total,axis=0)\n",
    "    df.loc[:,\"total\"]=df.loc[:,['bad','neutral','good']].sum(axis=1)\n",
    "    df=df.drop(['total'], axis=1)\n",
    "   \n",
    "    df.index=df.date.dt.date\n",
    "    if ax is None:\n",
    "        ax = plt.gca()\n",
    "    colors=['crimson','lightgrey','mediumseagreen']\n",
    "    df.loc[:,['bad','neutral', 'good']].plot.bar(stacked=True, color=colors, width=1.0,alpha=0.5,ax=ax)\n",
    "    \n",
    "   \n",
    "    # set axis formats / Set the locato\n",
    "    \n",
    "    major_locator = mdates.MonthLocator()  \n",
    "    major_fmt = mdates.DateFormatter('%b')\n",
    "    minor_locator = mdates.DayLocator(interval=1) \n",
    "    minor_fmt = mdates.DateFormatter('%d')\n",
    "    ax.xaxis.set_major_locator(major_locator)\n",
    "    ax.xaxis.set_major_formatter(major_fmt)\n",
    "    ax.xaxis.set_minor_locator(minor_locator)\n",
    "    ax.grid(True, which='major',axis='both')\n",
    "    \n",
    "    if n > 750:\n",
    "        major_locator = mdates.YearLocator()   # every year and quarter\n",
    "        major_fmt = mdates.DateFormatter('%Y')\n",
    "        minor_locator =  mdates.MonthLocator()\n",
    "        minor_fmt = mdates.DateFormatter('%b')\n",
    "        ax.xaxis.set_major_locator(major_locator)\n",
    "        ax.xaxis.set_major_formatter(major_fmt)\n",
    "        ax.xaxis.set_minor_locator(minor_locator)\n",
    "        ax.grid(True, which='major',axis='both')\n",
    "        \n",
    "    if((n > 250 ) & (n< 750 )):\n",
    "        major_locator = mdates.MonthLocator()   # every year and quarter\n",
    "        major_fmt = mdates.DateFormatter('%b-%Y')\n",
    "        #minor_locator =  mdates.MonthLocator()\n",
    "        #minor_fmt = mdates.DateFormatter('%b')\n",
    "        ax.xaxis.set_major_locator(major_locator)\n",
    "        ax.xaxis.set_major_formatter(major_fmt)\n",
    "        #ax.xaxis.set_minor_locator(minor_locator)\n",
    "        ax.grid(True, which='major',axis='both')\n",
    "        \n",
    "    if ((n > 90 ) & (n< 250 )):\n",
    "        major_locator = mdates.MonthLocator()   # every  month\n",
    "        major_fmt = mdates.DateFormatter('%b-%y')\n",
    "        minor_locator = tkr.AutoMinorLocator(4)\n",
    "        minor_fmt = mdates.DateFormatter('%d-%m')\n",
    "        ax.xaxis.set_major_locator(major_locator)\n",
    "        ax.xaxis.set_major_formatter(major_fmt)\n",
    "        ax.xaxis.set_minor_locator(minor_locator)\n",
    "        #ax.xaxis.set_minor_formatter(minor_fmt)\n",
    "        ax.grid(True, which='major',axis='both')\n",
    "         \n",
    "    \n",
    "    ax.set_ylabel('Sentiment')\n",
    "    ax.set_xlabel('Date')\n",
    "    ax.tick_params(axis='x', labelrotation = 45)\n",
    "    \n",
    "    ax.grid(True, which='major',axis='both')\n",
    "    ax.legend(loc='center left', bbox_to_anchor=(1, 0.5),fancybox=True, shadow=True)\n",
    "    return ax"
   ]
  },
  {
   "cell_type": "code",
   "execution_count": 16,
   "metadata": {},
   "outputs": [],
   "source": [
    "def sentiment_tweet_vol(df,ax=None,**kwargs):\n",
    "    import seaborn as sns\n",
    "    import matplotlib.pyplot as plt\n",
    "    import matplotlib.dates as mdates\n",
    "    import matplotlib.ticker as tkr\n",
    "    df=df.groupby(['date'])['label'].agg('count').reset_index(name=\"count\")\n",
    "    df.index=df.date.dt.date\n",
    "    n=len(df.date.unique())\n",
    "    \n",
    "    if ax is None:\n",
    "        ax = plt.gca()\n",
    "    # set axis formats / Set the locator\n",
    "    \n",
    "    major_locator = mdates.MonthLocator()  \n",
    "    major_fmt = mdates.DateFormatter('%b')\n",
    "    minor_locator = mdates.DayLocator(interval=1) \n",
    "    minor_fmt = mdates.DateFormatter('%d')\n",
    "    ax.xaxis.set_major_locator(major_locator)\n",
    "    ax.xaxis.set_major_formatter(major_fmt)\n",
    "    ax.xaxis.set_minor_locator(minor_locator)\n",
    "    ax.grid(True, which='major',axis='both')\n",
    "    \n",
    "    if n > 750:\n",
    "        major_locator = mdates.YearLocator()   # every year and quarter\n",
    "        major_fmt = mdates.DateFormatter('%Y')\n",
    "        minor_locator =  mdates.MonthLocator()\n",
    "        minor_fmt = mdates.DateFormatter('%b')\n",
    "        ax.xaxis.set_major_locator(major_locator)\n",
    "        ax.xaxis.set_major_formatter(major_fmt)\n",
    "        ax.xaxis.set_minor_locator(minor_locator)\n",
    "        ax.grid(True, which='major',axis='both')\n",
    "        \n",
    "    if((n > 250 ) & (n< 750 )):\n",
    "        major_locator = mdates.MonthLocator()   # every year and quarter\n",
    "        major_fmt = mdates.DateFormatter('%b-%Y')\n",
    "        #minor_locator =  mdates.MonthLocator()\n",
    "        #minor_fmt = mdates.DateFormatter('%b')\n",
    "        ax.xaxis.set_major_locator(major_locator)\n",
    "        ax.xaxis.set_major_formatter(major_fmt)\n",
    "        #ax.xaxis.set_minor_locator(minor_locator)\n",
    "        ax.grid(True, which='major',axis='both')\n",
    "        \n",
    "    if ((n > 90 ) & (n< 250 )):\n",
    "        major_locator = mdates.MonthLocator()   # every  month\n",
    "        major_fmt = mdates.DateFormatter('%b-%y')\n",
    "        minor_locator = tkr.AutoMinorLocator(4)\n",
    "        minor_fmt = mdates.DateFormatter('%d-%m')\n",
    "        ax.xaxis.set_major_locator(major_locator)\n",
    "        ax.xaxis.set_major_formatter(major_fmt)\n",
    "        ax.xaxis.set_minor_locator(minor_locator)\n",
    "        #ax.xaxis.set_minor_formatter(minor_fmt)\n",
    "        ax.grid(True, which='major',axis='both')\n",
    "        \n",
    "    ax.set_ylabel('Tweet Volume')\n",
    "    ax.set_xlabel('Date')\n",
    "    ax.tick_params(axis='x', labelrotation = 45)\n",
    "    ax.yaxis.set_major_formatter(tkr.FuncFormatter(lambda x, p: format(int(x), ',')))\n",
    "    sns.lineplot(data=df, x='date', y='count',palette='cool_r',ax=ax)\n",
    "    \n",
    "    return ax"
   ]
  },
  {
   "cell_type": "code",
   "execution_count": 17,
   "metadata": {},
   "outputs": [],
   "source": [
    "def corr_plot(sp,tw):\n",
    "    \n",
    "    x=tw.groupby(['date','label']).agg({\"score\":['count','mean']}).unstack('label') \n",
    "    sp=sp.reset_index(drop=True)\n",
    "    # format the data and make proportion\n",
    "    x=pd.DataFrame(x.to_records())\n",
    "    # format columns names\n",
    "    x.columns=['date','count_bad','count_neutral','count_good','score_mean_bad','score_mean_neutral','score_mean_good']\n",
    "    x.loc[:,'tweet_volume']=x.loc[:,['count_bad','count_neutral','count_good']].sum(axis=1)\n",
    "    x.loc[:,'count_ratio_gb']=x.count_good/x.count_bad # create a ratio good:bad\n",
    "    # join price\n",
    "    x=x.merge(sp.loc[:,['date','MA10', 'MA20', 'MA50','MA100', 'macd', 'rsi','volume']],how='left',left_on='date',right_on='date')\n",
    "\n",
    "    corr = x.corr()\n",
    "    # Getting the Upper Triangle of the co-relation matrix\n",
    "    matrix = np.triu(corr)\n",
    "    ax = sns.heatmap(\n",
    "        round(corr,3),\n",
    "        vmin=-1, vmax=1, center=0,\n",
    "        cmap=\"YlGnBu\",annot=True,annot_kws={\"fontsize\":8}, fmt=\".2\",\n",
    "        square=True\n",
    "    )\n",
    "    ax.set_xticklabels(\n",
    "        ax.get_xticklabels(),\n",
    "        rotation=45,\n",
    "        horizontalalignment='right'\n",
    "    )\n",
    "    return ax"
   ]
  },
  {
   "cell_type": "code",
   "execution_count": 24,
   "metadata": {},
   "outputs": [],
   "source": [
    "# start='2015-01-01'\n",
    "# end='2020-12-31'\n",
    "# ticker='TSLA'\n",
    "# # get data\n",
    "# sp=subset_prices(d,ticker,start,end) #get price info\n",
    "# fig,ax=plt.subplots(figsize=(12, 8))\n",
    "# fig.suptitle(ticker+ \": Price,Moving Averages\",fontsize=14,horizontalalignment='right', verticalalignment='top')\n",
    "# price_plot_ma(ax=ax,df=sp)"
   ]
  },
  {
   "cell_type": "code",
   "execution_count": 25,
   "metadata": {},
   "outputs": [],
   "source": [
    "# start='2018-06-01'\n",
    "# end='2019-12-31'\n",
    "# ticker='TSLA'\n",
    "# # get data\n",
    "# sp=subset_prices(d,ticker,start,end) #get price info\n",
    "# tw=get_sentiment(tweets,ticker,start,end) # get tweets"
   ]
  },
  {
   "cell_type": "code",
   "execution_count": 26,
   "metadata": {},
   "outputs": [],
   "source": [
    "# gridsize = (3, 2) # 3 rows, 2 cols\n",
    "# fig = plt.figure(figsize=(12, 8))\n",
    "# ax1 = plt.subplot2grid(gridsize, (0, 0), colspan=2, rowspan=2)\n",
    "# ax1.set_xlim(min(sp.date),max(sp.date))\n",
    "# ax2 = plt.subplot2grid(gridsize, (2, 0), colspan=2, rowspan=1)\n",
    "# fig.suptitle(ticker+ \": Price,Moving Averages & Twitter Sentimet\",fontsize=14,horizontalalignment='right', verticalalignment='top')\n",
    "# fig.subplots_adjust(hspace=0.4)\n",
    "# price_plot_ma(ax=ax1,df=sp)\n",
    "# sentiment_barplot(ax=ax2,df=tw)"
   ]
  },
  {
   "cell_type": "code",
   "execution_count": 27,
   "metadata": {},
   "outputs": [],
   "source": [
    "# gridsize = (2, 2) # 2 rows, 2 cols\n",
    "# fig = plt.figure(figsize=(12, 8))\n",
    "# ax1 = plt.subplot2grid(gridsize, (0, 0), colspan=2, rowspan=1)\n",
    "# ax2 = plt.subplot2grid(gridsize, (1, 0), colspan=2, rowspan=1)\n",
    "# fig.suptitle(ticker+ \": Trade Volumes & Tweet Volumes\",fontsize=14,horizontalalignment='right', verticalalignment='top')\n",
    "# fig.subplots_adjust(hspace=0.5)\n",
    "# ax1.set_xlim(min(sp.date),max(sp.date))\n",
    "# ax2.set_xlim(min(tw.date),max(tw.date))\n",
    "# price_plot_vol(ax=ax1, df=sp)\n",
    "# sentiment_tweet_vol(ax=ax2,df=tw)"
   ]
  },
  {
   "cell_type": "code",
   "execution_count": 28,
   "metadata": {},
   "outputs": [],
   "source": [
    "# fig,ax = plt.subplots(figsize=(12, 8))\n",
    "# fig.suptitle(ticker + \": Correlation Analysis \"+ start+ \" - \" + end,fontsize=14,horizontalalignment='right', verticalalignment='top')\n",
    "# ax=corr_plot(sp,tw)"
   ]
  },
  {
   "cell_type": "code",
   "execution_count": 18,
   "metadata": {},
   "outputs": [],
   "source": [
    "def price_plot_ma_v2(ticker, start, end, sp):\n",
    "    # sp = subset_prices(d, ticker, start, end)\n",
    "    fig, ax = plt.subplots(figsize=(12,8))\n",
    "    fig.suptitle(ticker+ \": Price,Moving Averages\",fontsize=14,horizontalalignment='right', verticalalignment='top')\n",
    "    price_plot_ma(ax=ax,df=sp)\n",
    "    fig.savefig('static/'+ticker+\"_\"+start+\"_\"+end+\"_\"+\"price_ma\"+\".png\")"
   ]
  },
  {
   "cell_type": "code",
   "execution_count": 1,
   "metadata": {},
   "outputs": [],
   "source": [
    "# price_plot_ma_v2('AAPL', '2015-01-01', '2020-12-31')"
   ]
  },
  {
   "cell_type": "code",
   "execution_count": 21,
   "metadata": {},
   "outputs": [],
   "source": [
    "# def get_sentiment_v2(tweets,ticker='TSLA',start='2017-01-01',end='2017-02-01'):\n",
    "#     #subset\n",
    "#     df=tweets.loc[((tweets.ticker_symbol==ticker)&(tweets.date>=start)&(tweets.date<=end))]\n",
    "    \n",
    "#     # apply TextBlob to body column\n",
    "#     df['score'] = df['body'].apply(lambda x: TextBlob(x).sentiment.polarity)\n",
    "    \n",
    "#     # create label\n",
    "#     df['label'] = pd.cut(df['score'], bins=[-1, -0.66, 0.32, 1], labels=[\"bad\", \"neutral\", \"good\"])\n",
    "    \n",
    "#     df=df.loc[:,[\"date\",\"score\",\"label\",\"tweet_id\",\"body\"]]\n",
    "#     return df\n"
   ]
  },
  {
   "cell_type": "code",
   "execution_count": 19,
   "metadata": {},
   "outputs": [],
   "source": [
    "def get_sentiment_all(tweets):\n",
    "    #sbuset\n",
    "    df=tweets\n",
    "    # apply the SentimentIntensityAnalyzer\n",
    "    df.loc[:,('score')]=df.loc[:,'body'].apply(lambda x: sia.polarity_scores(x)['compound'])\n",
    "    # create label\n",
    "    #bins= pd.interval_range(start=-1, freq=3, end=1)\n",
    "    df.loc[:,('label')]=pd.cut(np.array(df.loc[:,'score']),bins=[-1, -0.66, 0.32, 1],right=True ,labels=[\"bad\", \"neutral\", \"good\"])\n",
    "    \n",
    "    df=df.loc[:,[\"date\",\"ticker_symbol\",\"score\",\"label\",\"tweet_id\",\"body\"]]\n",
    "    return df"
   ]
  },
  {
   "cell_type": "code",
   "execution_count": 20,
   "metadata": {},
   "outputs": [],
   "source": [
    "# sp=subset_prices(d,ticker,start,end) #get price info\n",
    "# tw_all = get_sentiment_all(tweets) # get tweets"
   ]
  },
  {
   "cell_type": "code",
   "execution_count": 37,
   "metadata": {},
   "outputs": [],
   "source": [
    "tw_all = pd.read_csv('tw_all.csv')"
   ]
  },
  {
   "cell_type": "code",
   "execution_count": 55,
   "metadata": {},
   "outputs": [],
   "source": [
    "tw_all['date'] = pd.to_datetime(tw_all['date'])"
   ]
  },
  {
   "cell_type": "code",
   "execution_count": 56,
   "metadata": {},
   "outputs": [
    {
     "data": {
      "text/html": [
       "<div>\n",
       "<style scoped>\n",
       "    .dataframe tbody tr th:only-of-type {\n",
       "        vertical-align: middle;\n",
       "    }\n",
       "\n",
       "    .dataframe tbody tr th {\n",
       "        vertical-align: top;\n",
       "    }\n",
       "\n",
       "    .dataframe thead th {\n",
       "        text-align: right;\n",
       "    }\n",
       "</style>\n",
       "<table border=\"1\" class=\"dataframe\">\n",
       "  <thead>\n",
       "    <tr style=\"text-align: right;\">\n",
       "      <th></th>\n",
       "      <th>date</th>\n",
       "      <th>ticker_symbol</th>\n",
       "      <th>score</th>\n",
       "      <th>label</th>\n",
       "      <th>tweet_id</th>\n",
       "      <th>body</th>\n",
       "    </tr>\n",
       "  </thead>\n",
       "  <tbody>\n",
       "    <tr>\n",
       "      <th>0</th>\n",
       "      <td>2015-01-01</td>\n",
       "      <td>AAPL</td>\n",
       "      <td>0.0000</td>\n",
       "      <td>neutral</td>\n",
       "      <td>550441509175443456</td>\n",
       "      <td>lx21 made $10,008  on $AAPL -Check it out! htt...</td>\n",
       "    </tr>\n",
       "    <tr>\n",
       "      <th>1</th>\n",
       "      <td>2015-01-01</td>\n",
       "      <td>AAPL</td>\n",
       "      <td>-0.8271</td>\n",
       "      <td>bad</td>\n",
       "      <td>550441672312512512</td>\n",
       "      <td>Insanity of today weirdo massive selling. $aap...</td>\n",
       "    </tr>\n",
       "    <tr>\n",
       "      <th>2</th>\n",
       "      <td>2015-01-01</td>\n",
       "      <td>AMZN</td>\n",
       "      <td>0.0000</td>\n",
       "      <td>neutral</td>\n",
       "      <td>550441732014223360</td>\n",
       "      <td>S&amp;P100 #Stocks Performance $HD $LOW $SBUX $TGT...</td>\n",
       "    </tr>\n",
       "    <tr>\n",
       "      <th>3</th>\n",
       "      <td>2015-01-01</td>\n",
       "      <td>TSLA</td>\n",
       "      <td>0.0000</td>\n",
       "      <td>neutral</td>\n",
       "      <td>550442977802207232</td>\n",
       "      <td>$GM $TSLA: Volkswagen Pushes 2014 Record Recal...</td>\n",
       "    </tr>\n",
       "    <tr>\n",
       "      <th>4</th>\n",
       "      <td>2015-01-01</td>\n",
       "      <td>AAPL</td>\n",
       "      <td>0.0000</td>\n",
       "      <td>neutral</td>\n",
       "      <td>550443807834402816</td>\n",
       "      <td>Swing Trading: Up To 8.91% Return In 14 Days h...</td>\n",
       "    </tr>\n",
       "    <tr>\n",
       "      <th>...</th>\n",
       "      <td>...</td>\n",
       "      <td>...</td>\n",
       "      <td>...</td>\n",
       "      <td>...</td>\n",
       "      <td>...</td>\n",
       "      <td>...</td>\n",
       "    </tr>\n",
       "    <tr>\n",
       "      <th>4336440</th>\n",
       "      <td>2019-12-31</td>\n",
       "      <td>TSLA</td>\n",
       "      <td>-0.5423</td>\n",
       "      <td>neutral</td>\n",
       "      <td>1212159838882533376</td>\n",
       "      <td>In 2020 I may start Tweeting out positive news...</td>\n",
       "    </tr>\n",
       "    <tr>\n",
       "      <th>4336441</th>\n",
       "      <td>2019-12-31</td>\n",
       "      <td>TSLA</td>\n",
       "      <td>-0.2960</td>\n",
       "      <td>neutral</td>\n",
       "      <td>1212160015332728833</td>\n",
       "      <td>Patiently Waiting for the no twitter sitter tw...</td>\n",
       "    </tr>\n",
       "    <tr>\n",
       "      <th>4336442</th>\n",
       "      <td>2019-12-31</td>\n",
       "      <td>AAPL</td>\n",
       "      <td>0.0000</td>\n",
       "      <td>neutral</td>\n",
       "      <td>1212160410692046849</td>\n",
       "      <td>I don't discriminate. I own both $aapl and $ms...</td>\n",
       "    </tr>\n",
       "    <tr>\n",
       "      <th>4336443</th>\n",
       "      <td>2019-12-31</td>\n",
       "      <td>MSFT</td>\n",
       "      <td>0.0000</td>\n",
       "      <td>neutral</td>\n",
       "      <td>1212160410692046849</td>\n",
       "      <td>I don't discriminate. I own both $aapl and $ms...</td>\n",
       "    </tr>\n",
       "    <tr>\n",
       "      <th>4336444</th>\n",
       "      <td>2019-12-31</td>\n",
       "      <td>AAPL</td>\n",
       "      <td>0.0000</td>\n",
       "      <td>neutral</td>\n",
       "      <td>1212160477159206912</td>\n",
       "      <td>$AAPL #patent 10,522,475 Vertical interconnect...</td>\n",
       "    </tr>\n",
       "  </tbody>\n",
       "</table>\n",
       "<p>4336445 rows × 6 columns</p>\n",
       "</div>"
      ],
      "text/plain": [
       "              date ticker_symbol   score    label             tweet_id   \n",
       "0       2015-01-01          AAPL  0.0000  neutral   550441509175443456  \\\n",
       "1       2015-01-01          AAPL -0.8271      bad   550441672312512512   \n",
       "2       2015-01-01          AMZN  0.0000  neutral   550441732014223360   \n",
       "3       2015-01-01          TSLA  0.0000  neutral   550442977802207232   \n",
       "4       2015-01-01          AAPL  0.0000  neutral   550443807834402816   \n",
       "...            ...           ...     ...      ...                  ...   \n",
       "4336440 2019-12-31          TSLA -0.5423  neutral  1212159838882533376   \n",
       "4336441 2019-12-31          TSLA -0.2960  neutral  1212160015332728833   \n",
       "4336442 2019-12-31          AAPL  0.0000  neutral  1212160410692046849   \n",
       "4336443 2019-12-31          MSFT  0.0000  neutral  1212160410692046849   \n",
       "4336444 2019-12-31          AAPL  0.0000  neutral  1212160477159206912   \n",
       "\n",
       "                                                      body  \n",
       "0        lx21 made $10,008  on $AAPL -Check it out! htt...  \n",
       "1        Insanity of today weirdo massive selling. $aap...  \n",
       "2        S&P100 #Stocks Performance $HD $LOW $SBUX $TGT...  \n",
       "3        $GM $TSLA: Volkswagen Pushes 2014 Record Recal...  \n",
       "4        Swing Trading: Up To 8.91% Return In 14 Days h...  \n",
       "...                                                    ...  \n",
       "4336440  In 2020 I may start Tweeting out positive news...  \n",
       "4336441  Patiently Waiting for the no twitter sitter tw...  \n",
       "4336442  I don't discriminate. I own both $aapl and $ms...  \n",
       "4336443  I don't discriminate. I own both $aapl and $ms...  \n",
       "4336444  $AAPL #patent 10,522,475 Vertical interconnect...  \n",
       "\n",
       "[4336445 rows x 6 columns]"
      ]
     },
     "execution_count": 56,
     "metadata": {},
     "output_type": "execute_result"
    }
   ],
   "source": [
    "tw_all"
   ]
  },
  {
   "cell_type": "code",
   "execution_count": 58,
   "metadata": {},
   "outputs": [],
   "source": [
    "def price_ma_sentiment_plot(ticker, start, end, sp, tw_all=tw_all):\n",
    "    # sp=subset_prices(d,ticker,start,end) #get price info\n",
    "    # tw=get_sentiment_v2(tweets,ticker,start,end) # get tweets\n",
    "    tw = tw_all[tw_all['ticker_symbol']==ticker]\n",
    "    gridsize = (3, 2) # 3 rows, 2 cols\n",
    "    fig = plt.figure(figsize=(12, 8))\n",
    "    ax1 = plt.subplot2grid(gridsize, (0, 0), colspan=2, rowspan=2)\n",
    "    ax1.set_xlim(min(sp.date),max(sp.date))\n",
    "    ax2 = plt.subplot2grid(gridsize, (2, 0), colspan=2, rowspan=1)\n",
    "    fig.suptitle(ticker+ \": Price,Moving Averages & Twitter Sentimet\",fontsize=14,horizontalalignment='right', verticalalignment='top')\n",
    "    fig.subplots_adjust(hspace=0.4)\n",
    "    price_plot_ma(ax=ax1,df=sp)\n",
    "    sentiment_barplot(ax=ax2,df=tw)\n",
    "    fig.savefig('static/'+ticker+\"_\"+start+\"_\"+end+\"_\"+\"price_ma_sentiment\"+\".png\")"
   ]
  },
  {
   "cell_type": "code",
   "execution_count": 34,
   "metadata": {},
   "outputs": [],
   "source": [
    "# price_ma_sentiment_plot('AAPL', '2015-01-01', '2020-12-31', sp, tw)"
   ]
  },
  {
   "cell_type": "code",
   "execution_count": 39,
   "metadata": {},
   "outputs": [],
   "source": [
    "def trade_tweet_vol_plot(ticker, start, end, sp, tw_all=tw_all):\n",
    "    tw = tw_all[tw_all['ticker_symbol']==ticker]\n",
    "    gridsize = (2, 2) # 2 rows, 2 cols\n",
    "    fig = plt.figure(figsize=(12, 8))\n",
    "    ax1 = plt.subplot2grid(gridsize, (0, 0), colspan=2, rowspan=1)\n",
    "    ax2 = plt.subplot2grid(gridsize, (1, 0), colspan=2, rowspan=1)\n",
    "    fig.suptitle(ticker+ \": Trade Volumes & Tweet Volumes\",fontsize=14,horizontalalignment='right', verticalalignment='top')\n",
    "    fig.subplots_adjust(hspace=0.5)\n",
    "    ax1.set_xlim(min(sp.date),max(sp.date))\n",
    "    ax2.set_xlim(min(tw.date),max(tw.date))\n",
    "    price_plot_vol(ax=ax1, df=sp)\n",
    "    sentiment_tweet_vol(ax=ax2,df=tw)\n",
    "    fig.savefig('static/'+ticker+\"_\"+start+\"_\"+end+\"_\"+\"trade_tweet_vol\"+\".png\")"
   ]
  },
  {
   "cell_type": "code",
   "execution_count": 36,
   "metadata": {},
   "outputs": [],
   "source": [
    "# trade_tweet_vol_plot('AAPL', '2015-01-01', '2020-12-31', sp, tw)"
   ]
  },
  {
   "cell_type": "code",
   "execution_count": 40,
   "metadata": {},
   "outputs": [],
   "source": [
    "def gen_corr_plot(ticker, start, end, sp, tw_all=tw_all):\n",
    "    tw = tw_all[tw_all['ticker_symbol']==ticker]\n",
    "    fig,ax = plt.subplots(figsize=(12, 8))\n",
    "    fig.suptitle(ticker + \": Correlation Analysis \"+ start+ \" - \" + end,fontsize=14,horizontalalignment='right', verticalalignment='top')\n",
    "    ax=corr_plot(sp,tw)\n",
    "    fig.savefig('static/'+ticker+\"_\"+start+\"_\"+end+\"_\"+\"corr_plot\"+\".png\")"
   ]
  },
  {
   "cell_type": "code",
   "execution_count": 38,
   "metadata": {},
   "outputs": [],
   "source": [
    "# gen_corr_plot('AAPL', '2015-01-01', '2020-12-31')"
   ]
  },
  {
   "cell_type": "code",
   "execution_count": 25,
   "metadata": {},
   "outputs": [],
   "source": [
    "# def get_sentiment_v3(tweets, ticker='TSLA', start='2017-01-01', end='2017-02-01'):\n",
    "#     # Subset\n",
    "#     df = tweets.loc[((tweets.ticker_symbol == ticker) & (tweets.date >= start) & (tweets.date <= end))]\n",
    "    \n",
    "#     # Convert to dask dataframe\n",
    "#     df = dd.from_pandas(df, npartitions=4)\n",
    "    \n",
    "#     # Apply TextBlob to body column\n",
    "#     df['score'] = df['body'].apply(lambda x: TextBlob(x).sentiment.polarity, meta=('score', 'f8'))\n",
    "    \n",
    "#     # Compute sentiment scores\n",
    "#     df = df.compute()\n",
    "    \n",
    "#     # Create label\n",
    "#     df['label'] = pd.cut(df['score'], bins=[-1, -0.66, 0.32, 1], labels=[\"bad\", \"neutral\", \"good\"])\n",
    "    \n",
    "#     df = df.loc[:,[\"date\",\"score\",\"label\",\"tweet_id\",\"body\"]]\n",
    "#     return df\n"
   ]
  },
  {
   "cell_type": "code",
   "execution_count": 40,
   "metadata": {},
   "outputs": [],
   "source": [
    "# tw = get_sentiment_v3(tweets,'AAPL', '2015-01-01', '2020-12-31')"
   ]
  },
  {
   "cell_type": "code",
   "execution_count": 41,
   "metadata": {},
   "outputs": [
    {
     "name": "stderr",
     "output_type": "stream",
     "text": [
      "C:\\Users\\KIIT\\AppData\\Local\\Temp\\ipykernel_2676\\1600412791.py:6: SettingWithCopyWarning: \n",
      "A value is trying to be set on a copy of a slice from a DataFrame.\n",
      "Try using .loc[row_indexer,col_indexer] = value instead\n",
      "\n",
      "See the caveats in the documentation: https://pandas.pydata.org/pandas-docs/stable/user_guide/indexing.html#returning-a-view-versus-a-copy\n",
      "  df['score'] = df['body'].apply(lambda x: TextBlob(x).sentiment.polarity)\n",
      "C:\\Users\\KIIT\\AppData\\Local\\Temp\\ipykernel_2676\\1600412791.py:9: SettingWithCopyWarning: \n",
      "A value is trying to be set on a copy of a slice from a DataFrame.\n",
      "Try using .loc[row_indexer,col_indexer] = value instead\n",
      "\n",
      "See the caveats in the documentation: https://pandas.pydata.org/pandas-docs/stable/user_guide/indexing.html#returning-a-view-versus-a-copy\n",
      "  df['label'] = pd.cut(df['score'], bins=[-1, -0.66, 0.32, 1], labels=[\"bad\", \"neutral\", \"good\"])\n"
     ]
    }
   ],
   "source": [
    "# tw1 = get_sentiment_v2(tweets,'AAPL', '2015-01-01', '2020-12-31')"
   ]
  },
  {
   "cell_type": "code",
   "execution_count": 42,
   "metadata": {},
   "outputs": [
    {
     "name": "stderr",
     "output_type": "stream",
     "text": [
      "C:\\Users\\KIIT\\AppData\\Local\\Temp\\ipykernel_2676\\4283998713.py:5: SettingWithCopyWarning: \n",
      "A value is trying to be set on a copy of a slice from a DataFrame.\n",
      "Try using .loc[row_indexer,col_indexer] = value instead\n",
      "\n",
      "See the caveats in the documentation: https://pandas.pydata.org/pandas-docs/stable/user_guide/indexing.html#returning-a-view-versus-a-copy\n",
      "  df.loc[:,('score')]=df.loc[:,'body'].apply(lambda x: sia.polarity_scores(x)['compound'])\n",
      "C:\\Users\\KIIT\\AppData\\Local\\Temp\\ipykernel_2676\\4283998713.py:8: SettingWithCopyWarning: \n",
      "A value is trying to be set on a copy of a slice from a DataFrame.\n",
      "Try using .loc[row_indexer,col_indexer] = value instead\n",
      "\n",
      "See the caveats in the documentation: https://pandas.pydata.org/pandas-docs/stable/user_guide/indexing.html#returning-a-view-versus-a-copy\n",
      "  df.loc[:,('label')]=pd.cut(np.array(df.loc[:,'score']),bins=[-1, -0.66, 0.32, 1],right=True ,labels=[\"bad\", \"neutral\", \"good\"])\n"
     ]
    }
   ],
   "source": [
    "# tw2 = get_sentiment(tweets,'AAPL', '2015-01-01', '2020-12-31')"
   ]
  },
  {
   "cell_type": "code",
   "execution_count": 29,
   "metadata": {},
   "outputs": [],
   "source": [
    "# sp = subset_prices(d, 'AAPL', '2015-01-01', '2020-12-31')"
   ]
  },
  {
   "cell_type": "code",
   "execution_count": 33,
   "metadata": {},
   "outputs": [],
   "source": [
    "# tw_all.to_csv('tw_all.csv', index=False)"
   ]
  },
  {
   "cell_type": "code",
   "execution_count": 34,
   "metadata": {},
   "outputs": [],
   "source": [
    "# tw_all_df = pd.read_csv('tw_all.csv')"
   ]
  },
  {
   "cell_type": "code",
   "execution_count": 45,
   "metadata": {},
   "outputs": [
    {
     "data": {
      "text/plain": [
       "'2015-01-01'"
      ]
     },
     "execution_count": 45,
     "metadata": {},
     "output_type": "execute_result"
    }
   ],
   "source": [
    "tw_all.date[1]"
   ]
  },
  {
   "cell_type": "code",
   "execution_count": 35,
   "metadata": {},
   "outputs": [
    {
     "data": {
      "text/html": [
       "<div>\n",
       "<style scoped>\n",
       "    .dataframe tbody tr th:only-of-type {\n",
       "        vertical-align: middle;\n",
       "    }\n",
       "\n",
       "    .dataframe tbody tr th {\n",
       "        vertical-align: top;\n",
       "    }\n",
       "\n",
       "    .dataframe thead th {\n",
       "        text-align: right;\n",
       "    }\n",
       "</style>\n",
       "<table border=\"1\" class=\"dataframe\">\n",
       "  <thead>\n",
       "    <tr style=\"text-align: right;\">\n",
       "      <th></th>\n",
       "      <th>date</th>\n",
       "      <th>ticker_symbol</th>\n",
       "      <th>score</th>\n",
       "      <th>label</th>\n",
       "      <th>tweet_id</th>\n",
       "      <th>body</th>\n",
       "    </tr>\n",
       "  </thead>\n",
       "  <tbody>\n",
       "    <tr>\n",
       "      <th>0</th>\n",
       "      <td>2015-01-01</td>\n",
       "      <td>AAPL</td>\n",
       "      <td>0.0000</td>\n",
       "      <td>neutral</td>\n",
       "      <td>550441509175443456</td>\n",
       "      <td>lx21 made $10,008  on $AAPL -Check it out! htt...</td>\n",
       "    </tr>\n",
       "    <tr>\n",
       "      <th>1</th>\n",
       "      <td>2015-01-01</td>\n",
       "      <td>AAPL</td>\n",
       "      <td>-0.8271</td>\n",
       "      <td>bad</td>\n",
       "      <td>550441672312512512</td>\n",
       "      <td>Insanity of today weirdo massive selling. $aap...</td>\n",
       "    </tr>\n",
       "    <tr>\n",
       "      <th>2</th>\n",
       "      <td>2015-01-01</td>\n",
       "      <td>AMZN</td>\n",
       "      <td>0.0000</td>\n",
       "      <td>neutral</td>\n",
       "      <td>550441732014223360</td>\n",
       "      <td>S&amp;P100 #Stocks Performance $HD $LOW $SBUX $TGT...</td>\n",
       "    </tr>\n",
       "    <tr>\n",
       "      <th>3</th>\n",
       "      <td>2015-01-01</td>\n",
       "      <td>TSLA</td>\n",
       "      <td>0.0000</td>\n",
       "      <td>neutral</td>\n",
       "      <td>550442977802207232</td>\n",
       "      <td>$GM $TSLA: Volkswagen Pushes 2014 Record Recal...</td>\n",
       "    </tr>\n",
       "    <tr>\n",
       "      <th>4</th>\n",
       "      <td>2015-01-01</td>\n",
       "      <td>AAPL</td>\n",
       "      <td>0.0000</td>\n",
       "      <td>neutral</td>\n",
       "      <td>550443807834402816</td>\n",
       "      <td>Swing Trading: Up To 8.91% Return In 14 Days h...</td>\n",
       "    </tr>\n",
       "    <tr>\n",
       "      <th>...</th>\n",
       "      <td>...</td>\n",
       "      <td>...</td>\n",
       "      <td>...</td>\n",
       "      <td>...</td>\n",
       "      <td>...</td>\n",
       "      <td>...</td>\n",
       "    </tr>\n",
       "    <tr>\n",
       "      <th>4336440</th>\n",
       "      <td>2019-12-31</td>\n",
       "      <td>TSLA</td>\n",
       "      <td>-0.5423</td>\n",
       "      <td>neutral</td>\n",
       "      <td>1212159838882533376</td>\n",
       "      <td>In 2020 I may start Tweeting out positive news...</td>\n",
       "    </tr>\n",
       "    <tr>\n",
       "      <th>4336441</th>\n",
       "      <td>2019-12-31</td>\n",
       "      <td>TSLA</td>\n",
       "      <td>-0.2960</td>\n",
       "      <td>neutral</td>\n",
       "      <td>1212160015332728833</td>\n",
       "      <td>Patiently Waiting for the no twitter sitter tw...</td>\n",
       "    </tr>\n",
       "    <tr>\n",
       "      <th>4336442</th>\n",
       "      <td>2019-12-31</td>\n",
       "      <td>AAPL</td>\n",
       "      <td>0.0000</td>\n",
       "      <td>neutral</td>\n",
       "      <td>1212160410692046849</td>\n",
       "      <td>I don't discriminate. I own both $aapl and $ms...</td>\n",
       "    </tr>\n",
       "    <tr>\n",
       "      <th>4336443</th>\n",
       "      <td>2019-12-31</td>\n",
       "      <td>MSFT</td>\n",
       "      <td>0.0000</td>\n",
       "      <td>neutral</td>\n",
       "      <td>1212160410692046849</td>\n",
       "      <td>I don't discriminate. I own both $aapl and $ms...</td>\n",
       "    </tr>\n",
       "    <tr>\n",
       "      <th>4336444</th>\n",
       "      <td>2019-12-31</td>\n",
       "      <td>AAPL</td>\n",
       "      <td>0.0000</td>\n",
       "      <td>neutral</td>\n",
       "      <td>1212160477159206912</td>\n",
       "      <td>$AAPL #patent 10,522,475 Vertical interconnect...</td>\n",
       "    </tr>\n",
       "  </tbody>\n",
       "</table>\n",
       "<p>4336445 rows × 6 columns</p>\n",
       "</div>"
      ],
      "text/plain": [
       "               date ticker_symbol   score    label             tweet_id   \n",
       "0        2015-01-01          AAPL  0.0000  neutral   550441509175443456  \\\n",
       "1        2015-01-01          AAPL -0.8271      bad   550441672312512512   \n",
       "2        2015-01-01          AMZN  0.0000  neutral   550441732014223360   \n",
       "3        2015-01-01          TSLA  0.0000  neutral   550442977802207232   \n",
       "4        2015-01-01          AAPL  0.0000  neutral   550443807834402816   \n",
       "...             ...           ...     ...      ...                  ...   \n",
       "4336440  2019-12-31          TSLA -0.5423  neutral  1212159838882533376   \n",
       "4336441  2019-12-31          TSLA -0.2960  neutral  1212160015332728833   \n",
       "4336442  2019-12-31          AAPL  0.0000  neutral  1212160410692046849   \n",
       "4336443  2019-12-31          MSFT  0.0000  neutral  1212160410692046849   \n",
       "4336444  2019-12-31          AAPL  0.0000  neutral  1212160477159206912   \n",
       "\n",
       "                                                      body  \n",
       "0        lx21 made $10,008  on $AAPL -Check it out! htt...  \n",
       "1        Insanity of today weirdo massive selling. $aap...  \n",
       "2        S&P100 #Stocks Performance $HD $LOW $SBUX $TGT...  \n",
       "3        $GM $TSLA: Volkswagen Pushes 2014 Record Recal...  \n",
       "4        Swing Trading: Up To 8.91% Return In 14 Days h...  \n",
       "...                                                    ...  \n",
       "4336440  In 2020 I may start Tweeting out positive news...  \n",
       "4336441  Patiently Waiting for the no twitter sitter tw...  \n",
       "4336442  I don't discriminate. I own both $aapl and $ms...  \n",
       "4336443  I don't discriminate. I own both $aapl and $ms...  \n",
       "4336444  $AAPL #patent 10,522,475 Vertical interconnect...  \n",
       "\n",
       "[4336445 rows x 6 columns]"
      ]
     },
     "execution_count": 35,
     "metadata": {},
     "output_type": "execute_result"
    }
   ],
   "source": [
    "# tw_all_df"
   ]
  },
  {
   "cell_type": "code",
   "execution_count": 60,
   "metadata": {},
   "outputs": [],
   "source": [
    "# tw_all.date.dt.date"
   ]
  },
  {
   "cell_type": "code",
   "execution_count": 61,
   "metadata": {},
   "outputs": [],
   "source": [
    "# sp = subset_prices(d, 'AAPL', '2015-01-01', '2020-12-31')\n",
    "# price_ma_sentiment_plot('AAPL', '2015-01-01', '2020-12-31', sp)"
   ]
  },
  {
   "cell_type": "code",
   "execution_count": 31,
   "metadata": {},
   "outputs": [],
   "source": [
    "# trade_tweet_vol_plot('AAPL', '2015-01-01', '2020-12-31', sp,)"
   ]
  },
  {
   "cell_type": "code",
   "execution_count": 32,
   "metadata": {},
   "outputs": [],
   "source": [
    "# trade_tweet_vol_plot('AAPL', '2015-01-01', '2020-12-31', sp, tw2)"
   ]
  },
  {
   "cell_type": "code",
   "execution_count": 33,
   "metadata": {},
   "outputs": [],
   "source": [
    "# tw_all = get_sentiment_all(tweets)"
   ]
  },
  {
   "cell_type": "code",
   "execution_count": 34,
   "metadata": {},
   "outputs": [],
   "source": [
    "# tw_all"
   ]
  },
  {
   "cell_type": "code",
   "execution_count": 35,
   "metadata": {},
   "outputs": [],
   "source": [
    "# tw_all[tw_all['ticker_symbol']=='TSLA']"
   ]
  },
  {
   "cell_type": "code",
   "execution_count": 36,
   "metadata": {},
   "outputs": [],
   "source": [
    "# def price_ma_sentiment_plot_v2(ticker, start, end, sp, tw_all):\n",
    "#     # sp=subset_prices(d,ticker,start,end) #get price info\n",
    "#     # tw=get_sentiment_v2(tweets,ticker,start,end) # get tweets\n",
    "#     tw = tw_all[tw_all['ticker_symbol']==ticker]\n",
    "#     gridsize = (3, 2) # 3 rows, 2 cols\n",
    "#     fig = plt.figure(figsize=(12, 8))\n",
    "#     ax1 = plt.subplot2grid(gridsize, (0, 0), colspan=2, rowspan=2)\n",
    "#     ax1.set_xlim(min(sp.date),max(sp.date))\n",
    "#     ax2 = plt.subplot2grid(gridsize, (2, 0), colspan=2, rowspan=1)\n",
    "#     fig.suptitle(ticker+ \": Price,Moving Averages & Twitter Sentimet\",fontsize=14,horizontalalignment='right', verticalalignment='top')\n",
    "#     fig.subplots_adjust(hspace=0.4)\n",
    "#     price_plot_ma(ax=ax1,df=sp)\n",
    "#     sentiment_barplot(ax=ax2,df=tw)\n",
    "#     fig.savefig('static/'+ticker+\"_\"+start+\"_\"+end+\"_\"+\"price_ma_sentiment\"+\".png\")"
   ]
  },
  {
   "cell_type": "code",
   "execution_count": 37,
   "metadata": {},
   "outputs": [],
   "source": [
    "# price_ma_sentiment_plot('TSLA', '2015-01-01', '2020-12-31', sp, tw_all)"
   ]
  }
 ],
 "metadata": {
  "kernelspec": {
   "display_name": "Python 3 (ipykernel)",
   "language": "python",
   "name": "python3"
  },
  "language_info": {
   "codemirror_mode": {
    "name": "ipython",
    "version": 3
   },
   "file_extension": ".py",
   "mimetype": "text/x-python",
   "name": "python",
   "nbconvert_exporter": "python",
   "pygments_lexer": "ipython3",
   "version": "3.11.1"
  }
 },
 "nbformat": 4,
 "nbformat_minor": 2
}
